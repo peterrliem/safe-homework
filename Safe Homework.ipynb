{
 "cells": [
  {
   "cell_type": "markdown",
   "id": "9b5d315f",
   "metadata": {},
   "source": [
    "# Safe Homework Assignment\n",
    "\n",
    "Peter Liem"
   ]
  },
  {
   "cell_type": "markdown",
   "id": "202c2b1c",
   "metadata": {},
   "source": [
    "## Collecting Data"
   ]
  },
  {
   "cell_type": "code",
   "execution_count": 1,
   "id": "8e8124c1",
   "metadata": {},
   "outputs": [],
   "source": [
    "import requests\n",
    "import pandas as pd"
   ]
  },
  {
   "cell_type": "code",
   "execution_count": 2,
   "id": "c0ffedcf",
   "metadata": {},
   "outputs": [
    {
     "name": "stdout",
     "output_type": "stream",
     "text": [
      "<class 'pandas.core.frame.DataFrame'>\n",
      "RangeIndex: 1513 entries, 0 to 1512\n",
      "Data columns (total 31 columns):\n",
      " #   Column                 Non-Null Count  Dtype  \n",
      "---  ------                 --------------  -----  \n",
      " 0   safe                   1513 non-null   object \n",
      " 1   to                     1513 non-null   object \n",
      " 2   value                  1513 non-null   object \n",
      " 3   data                   1396 non-null   object \n",
      " 4   operation              1513 non-null   int64  \n",
      " 5   gasToken               1513 non-null   object \n",
      " 6   safeTxGas              1513 non-null   int64  \n",
      " 7   baseGas                1513 non-null   int64  \n",
      " 8   gasPrice               1513 non-null   object \n",
      " 9   refundReceiver         1513 non-null   object \n",
      " 10  nonce                  1513 non-null   int64  \n",
      " 11  executionDate          1454 non-null   object \n",
      " 12  submissionDate         1513 non-null   object \n",
      " 13  modified               1513 non-null   object \n",
      " 14  blockNumber            1454 non-null   float64\n",
      " 15  transactionHash        1454 non-null   object \n",
      " 16  safeTxHash             1513 non-null   object \n",
      " 17  executor               1454 non-null   object \n",
      " 18  isExecuted             1513 non-null   bool   \n",
      " 19  isSuccessful           1454 non-null   object \n",
      " 20  ethGasPrice            1454 non-null   object \n",
      " 21  maxFeePerGas           219 non-null    object \n",
      " 22  maxPriorityFeePerGas   219 non-null    object \n",
      " 23  gasUsed                1454 non-null   float64\n",
      " 24  fee                    1454 non-null   object \n",
      " 25  origin                 1513 non-null   object \n",
      " 26  dataDecoded            1393 non-null   object \n",
      " 27  confirmationsRequired  1513 non-null   int64  \n",
      " 28  confirmations          1513 non-null   object \n",
      " 29  trusted                1513 non-null   bool   \n",
      " 30  signatures             1454 non-null   object \n",
      "dtypes: bool(2), float64(2), int64(5), object(22)\n",
      "memory usage: 345.9+ KB\n"
     ]
    }
   ],
   "source": [
    "all_results = []\n",
    "\n",
    "url = \"https://safe-transaction-mainnet.safe.global/api/v1/safes/0xBbA4C8eB57DF16c4CfAbe4e9A3Ab697A3e0C65D8/multisig-transactions/?limit=100&offset=0\"\n",
    "\n",
    "while url:\n",
    "\n",
    "    response = requests.get(url)\n",
    "    \n",
    "    \n",
    "    if response.status_code == 200:\n",
    "        data = response.json()\n",
    "        results = data.get(\"results\", [])\n",
    "        \n",
    "        # add new results due to pagination\n",
    "        all_results.extend(results)\n",
    "        \n",
    "        # Get the next URL for the next page\n",
    "        url = data.get(\"next\")\n",
    "    else:\n",
    "        print(f\"Failed\")\n",
    "        break\n",
    "\n",
    "\n",
    "df = pd.DataFrame(all_results)\n",
    "\n",
    "df.info()\n"
   ]
  },
  {
   "cell_type": "code",
   "execution_count": 3,
   "id": "a7c0a215",
   "metadata": {},
   "outputs": [
    {
     "name": "stdout",
     "output_type": "stream",
     "text": [
      "          executionDate               submissionDate  \\\n",
      "0  2023-10-09T06:43:11Z  2023-10-09T05:25:24.855220Z   \n",
      "1  2023-10-09T02:20:23Z  2023-10-08T16:01:36.980037Z   \n",
      "2  2023-09-27T19:11:35Z  2023-09-27T19:02:40.667153Z   \n",
      "3  2023-09-27T19:10:35Z  2023-09-27T19:00:12.521121Z   \n",
      "4  2023-09-27T19:09:23Z  2023-09-27T18:57:59.373956Z   \n",
      "\n",
      "                                     executor isSuccessful  \\\n",
      "0  0x63a742BAdC29A486d94ABC05049D2E18fFDc5712         True   \n",
      "1  0x63a742BAdC29A486d94ABC05049D2E18fFDc5712         True   \n",
      "2  0x8fdfff20257E4b6d1e307Df8597F81ec53d82657         True   \n",
      "3  0x8fdfff20257E4b6d1e307Df8597F81ec53d82657         True   \n",
      "4  0x8fdfff20257E4b6d1e307Df8597F81ec53d82657         True   \n",
      "\n",
      "                                                           safeTxHash  \\\n",
      "0  0x22e526281f32560a1b747043c81e7544991815fc380498896ea9a1ee5444ce2b   \n",
      "1  0xef2fc1097b44f0c82dc4a4d6962791370d7c2e656c4290e05bb7beecca33d29c   \n",
      "2  0x5988f78f8501425208eacc1c2fe21f98073bcc28a32d514ac08100263e2b766d   \n",
      "3  0x528a750fcfdcb19bfa79825346507ee95b57599af60eee040bd748f18da23a6c   \n",
      "4  0x1417fc27428655a433b395255ea4fc110600a94e6b37939ae254f546a133cd76   \n",
      "\n",
      "                                            origin  \n",
      "0  {\"url\": \"https://summer.fi\", \"name\": \"unknown\"}  \n",
      "1  {\"url\": \"https://summer.fi\", \"name\": \"unknown\"}  \n",
      "2                                               {}  \n",
      "3                                               {}  \n",
      "4                                               {}  \n"
     ]
    }
   ],
   "source": [
    "# Check data, make all values visible\n",
    "\n",
    "pd.set_option('display.max_colwidth', None)\n",
    "print(df[['executionDate', 'submissionDate', 'executor', 'isSuccessful','safeTxHash', 'origin']].head())"
   ]
  },
  {
   "cell_type": "markdown",
   "id": "4a5fd5fb",
   "metadata": {},
   "source": [
    "## Dataset\n",
    "\n",
    "Filtering df into dataset that contains only \"WalletConnect\" and successful transactions"
   ]
  },
  {
   "cell_type": "code",
   "execution_count": 8,
   "id": "057718a9",
   "metadata": {},
   "outputs": [
    {
     "name": "stdout",
     "output_type": "stream",
     "text": [
      "number of successful WalletConnect transactions: 43\n"
     ]
    }
   ],
   "source": [
    "\n",
    "# Filter dataframe into rows that have \"WalletConnect\" in the 'origin' column and \"True\" in 'isSuccessful' column\n",
    "\n",
    "df_walletconnect= df[(df['origin'].str.contains('WalletConnect', case=False)) & (df['isSuccessful'] == True)]\n",
    "\n",
    "# get number of records\n",
    "\n",
    "record_number = df_walletconnect.shape[0]\n",
    "\n",
    "print(f\"number of successful WalletConnect transactions: {record_number}\")\n",
    "\n",
    "# For checking\n",
    "\n",
    "# df_check = df_walletconnect[df_walletconnect['isSuccessful'] == True]\n",
    "\n",
    "# df_check[['isSuccessful', 'safeTxHash']]\n"
   ]
  }
 ],
 "metadata": {
  "kernelspec": {
   "display_name": "Python 3 (ipykernel)",
   "language": "python",
   "name": "python3"
  },
  "language_info": {
   "codemirror_mode": {
    "name": "ipython",
    "version": 3
   },
   "file_extension": ".py",
   "mimetype": "text/x-python",
   "name": "python",
   "nbconvert_exporter": "python",
   "pygments_lexer": "ipython3",
   "version": "3.9.7"
  }
 },
 "nbformat": 4,
 "nbformat_minor": 5
}
